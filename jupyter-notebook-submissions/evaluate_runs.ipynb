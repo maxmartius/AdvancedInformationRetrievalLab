{
 "cells": [
  {
   "cell_type": "markdown",
   "id": "a4709079-de88-4b6f-8cef-70c54640756f",
   "metadata": {},
   "source": [
    "# Pyterrier Notebook for evaluating project test runs"
   ]
  },
  {
   "cell_type": "markdown",
   "id": "aa58e9aa-956b-4282-8769-433de07896ce",
   "metadata": {},
   "source": [
    "### Install dependencies "
   ]
  },
  {
   "cell_type": "code",
   "execution_count": null,
   "id": "22d97154-572f-4608-81d5-9b22d570f92d",
   "metadata": {},
   "outputs": [],
   "source": [
    "!pip3 install python-terrier tira==0.0.88 ir_datasets"
   ]
  },
  {
   "cell_type": "markdown",
   "id": "c0258c75-d00f-40b0-af75-66c16bd5188e",
   "metadata": {},
   "source": [
    "Load imports and datasets"
   ]
  },
  {
   "cell_type": "code",
   "execution_count": null,
   "id": "267d9fbd-5afe-4768-a88d-d5902028ccc5",
   "metadata": {},
   "outputs": [],
   "source": [
    "from trectools import TrecRun, TrecQrel, TrecEval\n",
    "from tira.rest_api_client import Client\n",
    "from glob import glob\n",
    "tira = Client()\n",
    "\n",
    "\n",
    "def load_qrels(dataset):\n",
    "    return TrecQrel(tira.download_dataset('ir-lab-jena-leipzig-wise-2023', dataset, truth_dataset=True) + '/qrels.txt')\n",
    "\n",
    "training_qrels = load_qrels('training-20231104-training')\n",
    "validation_qrels = load_qrels('validation-20231104-training')"
   ]
  },
  {
   "cell_type": "markdown",
   "id": "fe51fdb5-d4fd-4712-b872-f5a848a3a7d9",
   "metadata": {},
   "source": [
    "Define function to read runs from from TREC run file"
   ]
  },
  {
   "cell_type": "code",
   "execution_count": 3,
   "id": "d5d86c13-ab36-4fa7-97e4-59f3c0b5dfd6",
   "metadata": {},
   "outputs": [],
   "source": [
    "def evaluate_run(run, qrels):\n",
    "    run = TrecRun(run)\n",
    "    trec_eval = TrecEval(run, qrels)\n",
    "\n",
    "    return {\n",
    "        'run': run.get_runid(),\n",
    "        'nDCG@10': trec_eval.get_ndcg(depth=10),\n",
    "        'nDCG@10 (unjudgedRemoved)': trec_eval.get_ndcg(depth=10, removeUnjudged=True),\n",
    "        'MAP': trec_eval.get_map(depth=10),\n",
    "        'MRR': trec_eval.get_reciprocal_rank()\n",
    "    }"
   ]
  },
  {
   "cell_type": "markdown",
   "id": "296f09ba-3d68-4287-ac99-42ac48340c2a",
   "metadata": {},
   "source": [
    "Convert to pandas dataframe and sort by ndcg at 10"
   ]
  },
  {
   "cell_type": "code",
   "execution_count": 2,
   "id": "e76890bf-de90-4894-8228-39fccdb147e6",
   "metadata": {},
   "outputs": [
    {
     "ename": "NameError",
     "evalue": "name 'glob' is not defined",
     "output_type": "error",
     "traceback": [
      "\u001b[0;31m---------------------------------------------------------------------------\u001b[0m",
      "\u001b[0;31mNameError\u001b[0m                                 Traceback (most recent call last)",
      "Cell \u001b[0;32mIn[2], line 4\u001b[0m\n\u001b[1;32m      1\u001b[0m \u001b[38;5;28;01mimport\u001b[39;00m \u001b[38;5;21;01mpandas\u001b[39;00m \u001b[38;5;28;01mas\u001b[39;00m \u001b[38;5;21;01mpd\u001b[39;00m\n\u001b[1;32m      3\u001b[0m df \u001b[38;5;241m=\u001b[39m []\n\u001b[0;32m----> 4\u001b[0m \u001b[38;5;28;01mfor\u001b[39;00m r \u001b[38;5;129;01min\u001b[39;00m \u001b[43mglob\u001b[49m(\u001b[38;5;124m'\u001b[39m\u001b[38;5;124mruns_milestone3/*.txt\u001b[39m\u001b[38;5;124m'\u001b[39m):\n\u001b[1;32m      5\u001b[0m     df \u001b[38;5;241m+\u001b[39m\u001b[38;5;241m=\u001b[39m [evaluate_run(r, training_qrels)]\n\u001b[1;32m      6\u001b[0m df \u001b[38;5;241m=\u001b[39m pd\u001b[38;5;241m.\u001b[39mDataFrame(df)\n",
      "\u001b[0;31mNameError\u001b[0m: name 'glob' is not defined"
     ]
    }
   ],
   "source": [
    "import pandas as pd\n",
    "\n",
    "df = []\n",
    "for r in glob('runs_milestone3/*.txt'):\n",
    "    df += [evaluate_run(r, training_qrels)]\n",
    "df = pd.DataFrame(df)\n",
    "df.sort_values('nDCG@10', ascending=False)"
   ]
  }
 ],
 "metadata": {
  "kernelspec": {
   "display_name": "Python 3 (ipykernel)",
   "language": "python",
   "name": "python3"
  },
  "language_info": {
   "codemirror_mode": {
    "name": "ipython",
    "version": 3
   },
   "file_extension": ".py",
   "mimetype": "text/x-python",
   "name": "python",
   "nbconvert_exporter": "python",
   "pygments_lexer": "ipython3",
   "version": "3.8.10"
  }
 },
 "nbformat": 4,
 "nbformat_minor": 5
}
