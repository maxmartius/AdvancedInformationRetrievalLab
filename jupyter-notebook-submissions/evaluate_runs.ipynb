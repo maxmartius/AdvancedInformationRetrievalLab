{
 "cells": [
  {
   "cell_type": "markdown",
   "id": "a4709079-de88-4b6f-8cef-70c54640756f",
   "metadata": {},
   "source": [
    "# Pyterrier Notebook for evaluating project test runs"
   ]
  },
  {
   "cell_type": "markdown",
   "id": "aa58e9aa-956b-4282-8769-433de07896ce",
   "metadata": {},
   "source": [
    "### Install dependencies "
   ]
  },
  {
   "cell_type": "code",
   "execution_count": 2,
   "id": "22d97154-572f-4608-81d5-9b22d570f92d",
   "metadata": {},
   "outputs": [
    {
     "name": "stdout",
     "output_type": "stream",
     "text": [
      "Requirement already satisfied: python-terrier in /usr/local/python/3.10.13/lib/python3.10/site-packages (0.10.0)\n",
      "Requirement already satisfied: tira==0.0.88 in /usr/local/python/3.10.13/lib/python3.10/site-packages (0.0.88)\n",
      "Requirement already satisfied: ir_datasets in /usr/local/python/3.10.13/lib/python3.10/site-packages (0.5.5)\n",
      "Collecting trectools\n",
      "  Downloading trectools-0.0.49.tar.gz (28 kB)\n",
      "  Installing build dependencies ... \u001b[?25ldone\n",
      "\u001b[?25h  Getting requirements to build wheel ... \u001b[?25ldone\n",
      "\u001b[?25h  Preparing metadata (pyproject.toml) ... \u001b[?25ldone\n",
      "\u001b[?25hRequirement already satisfied: requests==2.*,>=2.26 in /home/codespace/.local/lib/python3.10/site-packages (from tira==0.0.88) (2.31.0)\n",
      "Requirement already satisfied: docker==6.*,>=6.0.0 in /usr/local/python/3.10.13/lib/python3.10/site-packages (from tira==0.0.88) (6.1.3)\n",
      "Requirement already satisfied: pandas in /home/codespace/.local/lib/python3.10/site-packages (from tira==0.0.88) (2.1.3)\n",
      "Requirement already satisfied: packaging>=14.0 in /home/codespace/.local/lib/python3.10/site-packages (from docker==6.*,>=6.0.0->tira==0.0.88) (23.2)\n",
      "Requirement already satisfied: urllib3>=1.26.0 in /usr/local/python/3.10.13/lib/python3.10/site-packages (from docker==6.*,>=6.0.0->tira==0.0.88) (2.0.7)\n",
      "Requirement already satisfied: websocket-client>=0.32.0 in /home/codespace/.local/lib/python3.10/site-packages (from docker==6.*,>=6.0.0->tira==0.0.88) (1.6.4)\n",
      "Requirement already satisfied: charset-normalizer<4,>=2 in /home/codespace/.local/lib/python3.10/site-packages (from requests==2.*,>=2.26->tira==0.0.88) (3.3.2)\n",
      "Requirement already satisfied: idna<4,>=2.5 in /home/codespace/.local/lib/python3.10/site-packages (from requests==2.*,>=2.26->tira==0.0.88) (3.4)\n",
      "Requirement already satisfied: certifi>=2017.4.17 in /home/codespace/.local/lib/python3.10/site-packages (from requests==2.*,>=2.26->tira==0.0.88) (2023.7.22)\n",
      "Requirement already satisfied: numpy in /home/codespace/.local/lib/python3.10/site-packages (from python-terrier) (1.26.2)\n",
      "Requirement already satisfied: wget in /usr/local/python/3.10.13/lib/python3.10/site-packages (from python-terrier) (3.2)\n",
      "Requirement already satisfied: tqdm in /usr/local/python/3.10.13/lib/python3.10/site-packages (from python-terrier) (4.66.1)\n",
      "Requirement already satisfied: pyjnius>=1.4.2 in /usr/local/python/3.10.13/lib/python3.10/site-packages (from python-terrier) (1.6.1)\n",
      "Requirement already satisfied: matchpy in /usr/local/python/3.10.13/lib/python3.10/site-packages (from python-terrier) (0.5.5)\n",
      "Requirement already satisfied: scikit-learn in /home/codespace/.local/lib/python3.10/site-packages (from python-terrier) (1.3.2)\n",
      "Requirement already satisfied: deprecated in /usr/local/python/3.10.13/lib/python3.10/site-packages (from python-terrier) (1.2.14)\n",
      "Requirement already satisfied: chest in /usr/local/python/3.10.13/lib/python3.10/site-packages (from python-terrier) (0.2.3)\n",
      "Requirement already satisfied: scipy in /home/codespace/.local/lib/python3.10/site-packages (from python-terrier) (1.11.3)\n",
      "Requirement already satisfied: joblib in /home/codespace/.local/lib/python3.10/site-packages (from python-terrier) (1.3.2)\n",
      "Requirement already satisfied: nptyping==1.4.4 in /usr/local/python/3.10.13/lib/python3.10/site-packages (from python-terrier) (1.4.4)\n",
      "Requirement already satisfied: more-itertools in /usr/local/python/3.10.13/lib/python3.10/site-packages (from python-terrier) (10.1.0)\n",
      "Requirement already satisfied: jinja2 in /home/codespace/.local/lib/python3.10/site-packages (from python-terrier) (3.1.2)\n",
      "Requirement already satisfied: statsmodels in /usr/local/python/3.10.13/lib/python3.10/site-packages (from python-terrier) (0.14.0)\n",
      "Requirement already satisfied: ir-measures>=0.3.1 in /usr/local/python/3.10.13/lib/python3.10/site-packages (from python-terrier) (0.3.3)\n",
      "Requirement already satisfied: dill in /usr/local/python/3.10.13/lib/python3.10/site-packages (from python-terrier) (0.3.7)\n",
      "Requirement already satisfied: pytrec-eval-terrier>=0.5.3 in /usr/local/python/3.10.13/lib/python3.10/site-packages (from python-terrier) (0.5.6)\n",
      "Requirement already satisfied: typish>=1.7.0 in /usr/local/python/3.10.13/lib/python3.10/site-packages (from nptyping==1.4.4->python-terrier) (1.9.3)\n",
      "Requirement already satisfied: beautifulsoup4>=4.4.1 in /home/codespace/.local/lib/python3.10/site-packages (from ir_datasets) (4.12.2)\n",
      "Requirement already satisfied: inscriptis>=2.2.0 in /usr/local/python/3.10.13/lib/python3.10/site-packages (from ir_datasets) (2.3.2)\n",
      "Requirement already satisfied: lxml>=4.5.2 in /usr/local/python/3.10.13/lib/python3.10/site-packages (from ir_datasets) (4.9.3)\n",
      "Requirement already satisfied: pyyaml>=5.3.1 in /home/codespace/.local/lib/python3.10/site-packages (from ir_datasets) (6.0.1)\n",
      "Requirement already satisfied: trec-car-tools>=2.5.4 in /usr/local/python/3.10.13/lib/python3.10/site-packages (from ir_datasets) (2.6)\n",
      "Requirement already satisfied: lz4>=3.1.10 in /usr/local/python/3.10.13/lib/python3.10/site-packages (from ir_datasets) (4.3.2)\n",
      "Requirement already satisfied: warc3-wet>=0.2.3 in /usr/local/python/3.10.13/lib/python3.10/site-packages (from ir_datasets) (0.2.3)\n",
      "Requirement already satisfied: warc3-wet-clueweb09>=0.2.5 in /usr/local/python/3.10.13/lib/python3.10/site-packages (from ir_datasets) (0.2.5)\n",
      "Requirement already satisfied: zlib-state>=0.1.3 in /usr/local/python/3.10.13/lib/python3.10/site-packages (from ir_datasets) (0.1.6)\n",
      "Requirement already satisfied: ijson>=3.1.3 in /usr/local/python/3.10.13/lib/python3.10/site-packages (from ir_datasets) (3.2.3)\n",
      "Requirement already satisfied: pyautocorpus>=0.1.1 in /usr/local/python/3.10.13/lib/python3.10/site-packages (from ir_datasets) (0.1.12)\n",
      "Requirement already satisfied: unlzw3>=0.2.1 in /usr/local/python/3.10.13/lib/python3.10/site-packages (from ir_datasets) (0.2.2)\n",
      "Collecting sarge>=0.1.1 (from trectools)\n",
      "  Downloading sarge-0.1.7.post1-py2.py3-none-any.whl (18 kB)\n",
      "Collecting bs4>=0.0.0.1 (from trectools)\n",
      "  Downloading bs4-0.0.1.tar.gz (1.1 kB)\n",
      "  Installing build dependencies ... \u001b[?25ldone\n",
      "\u001b[?25h  Getting requirements to build wheel ... \u001b[?25ldone\n",
      "\u001b[?25h  Preparing metadata (pyproject.toml) ... \u001b[?25ldone\n",
      "\u001b[?25hRequirement already satisfied: matplotlib>=1.5 in /home/codespace/.local/lib/python3.10/site-packages (from trectools) (3.8.1)\n",
      "Requirement already satisfied: soupsieve>1.2 in /home/codespace/.local/lib/python3.10/site-packages (from beautifulsoup4>=4.4.1->ir_datasets) (2.5)\n",
      "Requirement already satisfied: cwl-eval>=1.0.10 in /usr/local/python/3.10.13/lib/python3.10/site-packages (from ir-measures>=0.3.1->python-terrier) (1.0.12)\n",
      "Requirement already satisfied: contourpy>=1.0.1 in /home/codespace/.local/lib/python3.10/site-packages (from matplotlib>=1.5->trectools) (1.2.0)\n",
      "Requirement already satisfied: cycler>=0.10 in /home/codespace/.local/lib/python3.10/site-packages (from matplotlib>=1.5->trectools) (0.12.1)\n",
      "Requirement already satisfied: fonttools>=4.22.0 in /home/codespace/.local/lib/python3.10/site-packages (from matplotlib>=1.5->trectools) (4.44.3)\n",
      "Requirement already satisfied: kiwisolver>=1.3.1 in /home/codespace/.local/lib/python3.10/site-packages (from matplotlib>=1.5->trectools) (1.4.5)\n",
      "Requirement already satisfied: pillow>=8 in /home/codespace/.local/lib/python3.10/site-packages (from matplotlib>=1.5->trectools) (10.1.0)\n",
      "Requirement already satisfied: pyparsing>=2.3.1 in /home/codespace/.local/lib/python3.10/site-packages (from matplotlib>=1.5->trectools) (3.1.1)\n",
      "Requirement already satisfied: python-dateutil>=2.7 in /home/codespace/.local/lib/python3.10/site-packages (from matplotlib>=1.5->trectools) (2.8.2)\n",
      "Requirement already satisfied: pytz>=2020.1 in /home/codespace/.local/lib/python3.10/site-packages (from pandas->tira==0.0.88) (2023.3.post1)\n",
      "Requirement already satisfied: tzdata>=2022.1 in /home/codespace/.local/lib/python3.10/site-packages (from pandas->tira==0.0.88) (2023.3)\n",
      "Requirement already satisfied: threadpoolctl>=2.0.0 in /home/codespace/.local/lib/python3.10/site-packages (from scikit-learn->python-terrier) (3.2.0)\n",
      "Requirement already satisfied: cbor>=1.0.0 in /usr/local/python/3.10.13/lib/python3.10/site-packages (from trec-car-tools>=2.5.4->ir_datasets) (1.0.0)\n",
      "Requirement already satisfied: heapdict in /usr/local/python/3.10.13/lib/python3.10/site-packages (from chest->python-terrier) (1.0.1)\n",
      "Requirement already satisfied: wrapt<2,>=1.10 in /usr/local/python/3.10.13/lib/python3.10/site-packages (from deprecated->python-terrier) (1.16.0)\n",
      "Requirement already satisfied: MarkupSafe>=2.0 in /home/codespace/.local/lib/python3.10/site-packages (from jinja2->python-terrier) (2.1.3)\n",
      "Requirement already satisfied: multiset<3.0,>=2.0 in /usr/local/python/3.10.13/lib/python3.10/site-packages (from matchpy->python-terrier) (2.1.1)\n",
      "Requirement already satisfied: patsy>=0.5.2 in /usr/local/python/3.10.13/lib/python3.10/site-packages (from statsmodels->python-terrier) (0.5.3)\n",
      "Requirement already satisfied: six in /home/codespace/.local/lib/python3.10/site-packages (from patsy>=0.5.2->statsmodels->python-terrier) (1.16.0)\n",
      "Building wheels for collected packages: trectools, bs4\n",
      "  Building wheel for trectools (pyproject.toml) ... \u001b[?25ldone\n",
      "\u001b[?25h  Created wheel for trectools: filename=trectools-0.0.49-py3-none-any.whl size=27122 sha256=4db7d9afac6f1647b726ee9f951ca840ad77f1a031e37d819bd25cee060599ba\n",
      "  Stored in directory: /home/codespace/.cache/pip/wheels/e1/95/fc/d4a374ba4444ef75666828722b1cd44df22226885c0f111c92\n",
      "  Building wheel for bs4 (pyproject.toml) ... \u001b[?25ldone\n",
      "\u001b[?25h  Created wheel for bs4: filename=bs4-0.0.1-py3-none-any.whl size=1256 sha256=a2a778addaf45fc403fcbe58cf3d1be65a649b8757dc7bbce8a3d119dc9c0308\n",
      "  Stored in directory: /home/codespace/.cache/pip/wheels/25/42/45/b773edc52acb16cd2db4cf1a0b47117e2f69bb4eb300ed0e70\n",
      "Successfully built trectools bs4\n",
      "Installing collected packages: sarge, bs4, trectools\n",
      "Successfully installed bs4-0.0.1 sarge-0.1.7.post1 trectools-0.0.49\n"
     ]
    }
   ],
   "source": [
    "!pip3 install python-terrier tira==0.0.88 ir_datasets trectools"
   ]
  },
  {
   "cell_type": "markdown",
   "id": "c0258c75-d00f-40b0-af75-66c16bd5188e",
   "metadata": {},
   "source": [
    "Load imports and datasets"
   ]
  },
  {
   "cell_type": "code",
   "execution_count": 4,
   "id": "267d9fbd-5afe-4768-a88d-d5902028ccc5",
   "metadata": {},
   "outputs": [
    {
     "name": "stdout",
     "output_type": "stream",
     "text": [
      "No settings given in /home/codespace/.tira/.tira-settings.json. I will use defaults.\n",
      "No settings given in /home/codespace/.tira/.tira-settings.json. I will use defaults.\n"
     ]
    }
   ],
   "source": [
    "from trectools import TrecRun, TrecQrel, TrecEval\n",
    "from tira.rest_api_client import Client\n",
    "from glob import glob\n",
    "import pandas as pd\n",
    "tira = Client()\n",
    "\n",
    "\n",
    "def load_qrels(dataset):\n",
    "    return TrecQrel(tira.download_dataset('ir-lab-jena-leipzig-wise-2023', dataset, truth_dataset=True) + '/qrels.txt')\n",
    "\n",
    "training_qrels = load_qrels('training-20231104-training')\n",
    "validation_qrels = load_qrels('validation-20231104-training')"
   ]
  },
  {
   "cell_type": "markdown",
   "id": "fe51fdb5-d4fd-4712-b872-f5a848a3a7d9",
   "metadata": {},
   "source": [
    "Define function to read runs from from TREC run file"
   ]
  },
  {
   "cell_type": "code",
   "execution_count": 9,
   "id": "d5d86c13-ab36-4fa7-97e4-59f3c0b5dfd6",
   "metadata": {},
   "outputs": [],
   "source": [
    "def evaluate_run(run_url, qrels):\n",
    "    run = TrecRun(run_url)\n",
    "    trec_eval = TrecEval(run, qrels)\n",
    "\n",
    "    return {\n",
    "        'run': run.get_runid(),\n",
    "        'run_url': run_url,\n",
    "        'nDCG@10': trec_eval.get_ndcg(depth=10),\n",
    "        'nDCG@10 (unjudgedRemoved)': trec_eval.get_ndcg(depth=10, removeUnjudged=True),\n",
    "        'MAP': trec_eval.get_map(depth=10),\n",
    "        'MRR': trec_eval.get_reciprocal_rank()\n",
    "    }"
   ]
  },
  {
   "cell_type": "markdown",
   "id": "296f09ba-3d68-4287-ac99-42ac48340c2a",
   "metadata": {},
   "source": [
    "Convert to pandas dataframe and sort by ndcg at 10"
   ]
  },
  {
   "cell_type": "code",
   "execution_count": 10,
   "id": "e76890bf-de90-4894-8228-39fccdb147e6",
   "metadata": {},
   "outputs": [
    {
     "name": "stderr",
     "output_type": "stream",
     "text": [
      "/home/codespace/.python/current/lib/python3.10/site-packages/trectools/trec_eval.py:294: FutureWarning: The default of observed=False is deprecated and will be changed to True in a future version of pandas. Pass observed=False to retain current behavior or observed=True to adopt the future default and silence this warning.\n",
      "  selection = selection[~selection[\"rel\"].isnull()].groupby(\"query\").first().copy()\n",
      "/home/codespace/.python/current/lib/python3.10/site-packages/trectools/trec_eval.py:294: FutureWarning: The default of observed=False is deprecated and will be changed to True in a future version of pandas. Pass observed=False to retain current behavior or observed=True to adopt the future default and silence this warning.\n",
      "  selection = selection[~selection[\"rel\"].isnull()].groupby(\"query\").first().copy()\n",
      "/home/codespace/.python/current/lib/python3.10/site-packages/trectools/trec_eval.py:294: FutureWarning: The default of observed=False is deprecated and will be changed to True in a future version of pandas. Pass observed=False to retain current behavior or observed=True to adopt the future default and silence this warning.\n",
      "  selection = selection[~selection[\"rel\"].isnull()].groupby(\"query\").first().copy()\n",
      "/home/codespace/.python/current/lib/python3.10/site-packages/trectools/trec_eval.py:294: FutureWarning: The default of observed=False is deprecated and will be changed to True in a future version of pandas. Pass observed=False to retain current behavior or observed=True to adopt the future default and silence this warning.\n",
      "  selection = selection[~selection[\"rel\"].isnull()].groupby(\"query\").first().copy()\n"
     ]
    },
    {
     "data": {
      "text/html": [
       "<div>\n",
       "<style scoped>\n",
       "    .dataframe tbody tr th:only-of-type {\n",
       "        vertical-align: middle;\n",
       "    }\n",
       "\n",
       "    .dataframe tbody tr th {\n",
       "        vertical-align: top;\n",
       "    }\n",
       "\n",
       "    .dataframe thead th {\n",
       "        text-align: right;\n",
       "    }\n",
       "</style>\n",
       "<table border=\"1\" class=\"dataframe\">\n",
       "  <thead>\n",
       "    <tr style=\"text-align: right;\">\n",
       "      <th></th>\n",
       "      <th>run</th>\n",
       "      <th>run_url</th>\n",
       "      <th>nDCG@10</th>\n",
       "      <th>nDCG@10 (unjudgedRemoved)</th>\n",
       "      <th>MAP</th>\n",
       "      <th>MRR</th>\n",
       "    </tr>\n",
       "  </thead>\n",
       "  <tbody>\n",
       "    <tr>\n",
       "      <th>3</th>\n",
       "      <td>bm25-baseline</td>\n",
       "      <td>runs_milestone3/run_snowball_validation_optimi...</td>\n",
       "      <td>0.181197</td>\n",
       "      <td>0.537554</td>\n",
       "      <td>0.121498</td>\n",
       "      <td>0.265651</td>\n",
       "    </tr>\n",
       "    <tr>\n",
       "      <th>1</th>\n",
       "      <td>bm25-baseline</td>\n",
       "      <td>runs_milestone3/run_with_snowball_stemmer.txt</td>\n",
       "      <td>0.178046</td>\n",
       "      <td>0.536264</td>\n",
       "      <td>0.119095</td>\n",
       "      <td>0.264599</td>\n",
       "    </tr>\n",
       "    <tr>\n",
       "      <th>0</th>\n",
       "      <td>bm25-baseline</td>\n",
       "      <td>runs_milestone3/run_with_porter_stemmer.txt</td>\n",
       "      <td>0.177380</td>\n",
       "      <td>0.536716</td>\n",
       "      <td>0.118656</td>\n",
       "      <td>0.262814</td>\n",
       "    </tr>\n",
       "    <tr>\n",
       "      <th>2</th>\n",
       "      <td>bm25-baseline</td>\n",
       "      <td>runs_milestone3/run_without_stemmer.txt</td>\n",
       "      <td>0.174777</td>\n",
       "      <td>0.529697</td>\n",
       "      <td>0.116601</td>\n",
       "      <td>0.264982</td>\n",
       "    </tr>\n",
       "  </tbody>\n",
       "</table>\n",
       "</div>"
      ],
      "text/plain": [
       "             run                                            run_url   nDCG@10  \\\n",
       "3  bm25-baseline  runs_milestone3/run_snowball_validation_optimi...  0.181197   \n",
       "1  bm25-baseline      runs_milestone3/run_with_snowball_stemmer.txt  0.178046   \n",
       "0  bm25-baseline        runs_milestone3/run_with_porter_stemmer.txt  0.177380   \n",
       "2  bm25-baseline            runs_milestone3/run_without_stemmer.txt  0.174777   \n",
       "\n",
       "   nDCG@10 (unjudgedRemoved)       MAP       MRR  \n",
       "3                   0.537554  0.121498  0.265651  \n",
       "1                   0.536264  0.119095  0.264599  \n",
       "0                   0.536716  0.118656  0.262814  \n",
       "2                   0.529697  0.116601  0.264982  "
      ]
     },
     "execution_count": 10,
     "metadata": {},
     "output_type": "execute_result"
    }
   ],
   "source": [
    "df = []\n",
    "for r in glob('runs_milestone3/*.txt'):\n",
    "    df += [evaluate_run(r, training_qrels)]\n",
    "df = pd.DataFrame(df)\n",
    "df.sort_values('nDCG@10', ascending=False)"
   ]
  }
 ],
 "metadata": {
  "kernelspec": {
   "display_name": "Python 3 (ipykernel)",
   "language": "python",
   "name": "python3"
  },
  "language_info": {
   "codemirror_mode": {
    "name": "ipython",
    "version": 3
   },
   "file_extension": ".py",
   "mimetype": "text/x-python",
   "name": "python",
   "nbconvert_exporter": "python",
   "pygments_lexer": "ipython3",
   "version": "3.10.13"
  }
 },
 "nbformat": 4,
 "nbformat_minor": 5
}
